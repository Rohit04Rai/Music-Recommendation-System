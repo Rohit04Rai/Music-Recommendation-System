{
 "cells": [
  {
   "cell_type": "markdown",
   "id": "9228f668",
   "metadata": {},
   "source": [
    "Music Recommendation System"
   ]
  },
  {
   "cell_type": "markdown",
   "id": "90fbab74",
   "metadata": {},
   "source": [
    "✅ Step 1: Import Required Libraries"
   ]
  },
  {
   "cell_type": "code",
   "execution_count": 1,
   "id": "944ada2d",
   "metadata": {},
   "outputs": [],
   "source": [
    "import pandas as pd\n",
    "from sklearn.metrics.pairwise import cosine_similarity\n",
    "from sklearn.preprocessing import StandardScaler"
   ]
  },
  {
   "cell_type": "markdown",
   "id": "363da26c",
   "metadata": {},
   "source": [
    "✅ Step 2: Load the Dataset"
   ]
  },
  {
   "cell_type": "code",
   "execution_count": 2,
   "id": "d5f467ee",
   "metadata": {},
   "outputs": [
    {
     "data": {
      "text/html": [
       "<div>\n",
       "<style scoped>\n",
       "    .dataframe tbody tr th:only-of-type {\n",
       "        vertical-align: middle;\n",
       "    }\n",
       "\n",
       "    .dataframe tbody tr th {\n",
       "        vertical-align: top;\n",
       "    }\n",
       "\n",
       "    .dataframe thead th {\n",
       "        text-align: right;\n",
       "    }\n",
       "</style>\n",
       "<table border=\"1\" class=\"dataframe\">\n",
       "  <thead>\n",
       "    <tr style=\"text-align: right;\">\n",
       "      <th></th>\n",
       "      <th>Unnamed: 0</th>\n",
       "      <th>artist_name</th>\n",
       "      <th>track_name</th>\n",
       "      <th>track_id</th>\n",
       "      <th>popularity</th>\n",
       "      <th>year</th>\n",
       "      <th>genre</th>\n",
       "      <th>danceability</th>\n",
       "      <th>energy</th>\n",
       "      <th>key</th>\n",
       "      <th>loudness</th>\n",
       "      <th>mode</th>\n",
       "      <th>speechiness</th>\n",
       "      <th>acousticness</th>\n",
       "      <th>instrumentalness</th>\n",
       "      <th>liveness</th>\n",
       "      <th>valence</th>\n",
       "      <th>tempo</th>\n",
       "      <th>duration_ms</th>\n",
       "      <th>time_signature</th>\n",
       "    </tr>\n",
       "  </thead>\n",
       "  <tbody>\n",
       "    <tr>\n",
       "      <th>0</th>\n",
       "      <td>0</td>\n",
       "      <td>Jason Mraz</td>\n",
       "      <td>I Won't Give Up</td>\n",
       "      <td>53QF56cjZA9RTuuMZDrSA6</td>\n",
       "      <td>68</td>\n",
       "      <td>2012</td>\n",
       "      <td>acoustic</td>\n",
       "      <td>0.483</td>\n",
       "      <td>0.303</td>\n",
       "      <td>4</td>\n",
       "      <td>-10.058</td>\n",
       "      <td>1</td>\n",
       "      <td>0.0429</td>\n",
       "      <td>0.6940</td>\n",
       "      <td>0.000000</td>\n",
       "      <td>0.1150</td>\n",
       "      <td>0.139</td>\n",
       "      <td>133.406</td>\n",
       "      <td>240166</td>\n",
       "      <td>3</td>\n",
       "    </tr>\n",
       "    <tr>\n",
       "      <th>1</th>\n",
       "      <td>1</td>\n",
       "      <td>Jason Mraz</td>\n",
       "      <td>93 Million Miles</td>\n",
       "      <td>1s8tP3jP4GZcyHDsjvw218</td>\n",
       "      <td>50</td>\n",
       "      <td>2012</td>\n",
       "      <td>acoustic</td>\n",
       "      <td>0.572</td>\n",
       "      <td>0.454</td>\n",
       "      <td>3</td>\n",
       "      <td>-10.286</td>\n",
       "      <td>1</td>\n",
       "      <td>0.0258</td>\n",
       "      <td>0.4770</td>\n",
       "      <td>0.000014</td>\n",
       "      <td>0.0974</td>\n",
       "      <td>0.515</td>\n",
       "      <td>140.182</td>\n",
       "      <td>216387</td>\n",
       "      <td>4</td>\n",
       "    </tr>\n",
       "    <tr>\n",
       "      <th>2</th>\n",
       "      <td>2</td>\n",
       "      <td>Joshua Hyslop</td>\n",
       "      <td>Do Not Let Me Go</td>\n",
       "      <td>7BRCa8MPiyuvr2VU3O9W0F</td>\n",
       "      <td>57</td>\n",
       "      <td>2012</td>\n",
       "      <td>acoustic</td>\n",
       "      <td>0.409</td>\n",
       "      <td>0.234</td>\n",
       "      <td>3</td>\n",
       "      <td>-13.711</td>\n",
       "      <td>1</td>\n",
       "      <td>0.0323</td>\n",
       "      <td>0.3380</td>\n",
       "      <td>0.000050</td>\n",
       "      <td>0.0895</td>\n",
       "      <td>0.145</td>\n",
       "      <td>139.832</td>\n",
       "      <td>158960</td>\n",
       "      <td>4</td>\n",
       "    </tr>\n",
       "    <tr>\n",
       "      <th>3</th>\n",
       "      <td>3</td>\n",
       "      <td>Boyce Avenue</td>\n",
       "      <td>Fast Car</td>\n",
       "      <td>63wsZUhUZLlh1OsyrZq7sz</td>\n",
       "      <td>58</td>\n",
       "      <td>2012</td>\n",
       "      <td>acoustic</td>\n",
       "      <td>0.392</td>\n",
       "      <td>0.251</td>\n",
       "      <td>10</td>\n",
       "      <td>-9.845</td>\n",
       "      <td>1</td>\n",
       "      <td>0.0363</td>\n",
       "      <td>0.8070</td>\n",
       "      <td>0.000000</td>\n",
       "      <td>0.0797</td>\n",
       "      <td>0.508</td>\n",
       "      <td>204.961</td>\n",
       "      <td>304293</td>\n",
       "      <td>4</td>\n",
       "    </tr>\n",
       "    <tr>\n",
       "      <th>4</th>\n",
       "      <td>4</td>\n",
       "      <td>Andrew Belle</td>\n",
       "      <td>Sky's Still Blue</td>\n",
       "      <td>6nXIYClvJAfi6ujLiKqEq8</td>\n",
       "      <td>54</td>\n",
       "      <td>2012</td>\n",
       "      <td>acoustic</td>\n",
       "      <td>0.430</td>\n",
       "      <td>0.791</td>\n",
       "      <td>6</td>\n",
       "      <td>-5.419</td>\n",
       "      <td>0</td>\n",
       "      <td>0.0302</td>\n",
       "      <td>0.0726</td>\n",
       "      <td>0.019300</td>\n",
       "      <td>0.1100</td>\n",
       "      <td>0.217</td>\n",
       "      <td>171.864</td>\n",
       "      <td>244320</td>\n",
       "      <td>4</td>\n",
       "    </tr>\n",
       "  </tbody>\n",
       "</table>\n",
       "</div>"
      ],
      "text/plain": [
       "   Unnamed: 0    artist_name        track_name                track_id  \\\n",
       "0           0     Jason Mraz   I Won't Give Up  53QF56cjZA9RTuuMZDrSA6   \n",
       "1           1     Jason Mraz  93 Million Miles  1s8tP3jP4GZcyHDsjvw218   \n",
       "2           2  Joshua Hyslop  Do Not Let Me Go  7BRCa8MPiyuvr2VU3O9W0F   \n",
       "3           3   Boyce Avenue          Fast Car  63wsZUhUZLlh1OsyrZq7sz   \n",
       "4           4   Andrew Belle  Sky's Still Blue  6nXIYClvJAfi6ujLiKqEq8   \n",
       "\n",
       "   popularity  year     genre  danceability  energy  key  loudness  mode  \\\n",
       "0          68  2012  acoustic         0.483   0.303    4   -10.058     1   \n",
       "1          50  2012  acoustic         0.572   0.454    3   -10.286     1   \n",
       "2          57  2012  acoustic         0.409   0.234    3   -13.711     1   \n",
       "3          58  2012  acoustic         0.392   0.251   10    -9.845     1   \n",
       "4          54  2012  acoustic         0.430   0.791    6    -5.419     0   \n",
       "\n",
       "   speechiness  acousticness  instrumentalness  liveness  valence    tempo  \\\n",
       "0       0.0429        0.6940          0.000000    0.1150    0.139  133.406   \n",
       "1       0.0258        0.4770          0.000014    0.0974    0.515  140.182   \n",
       "2       0.0323        0.3380          0.000050    0.0895    0.145  139.832   \n",
       "3       0.0363        0.8070          0.000000    0.0797    0.508  204.961   \n",
       "4       0.0302        0.0726          0.019300    0.1100    0.217  171.864   \n",
       "\n",
       "   duration_ms  time_signature  \n",
       "0       240166               3  \n",
       "1       216387               4  \n",
       "2       158960               4  \n",
       "3       304293               4  \n",
       "4       244320               4  "
      ]
     },
     "execution_count": 2,
     "metadata": {},
     "output_type": "execute_result"
    }
   ],
   "source": [
    "df = pd.read_csv('spotify_data.csv')\n",
    "df.head()"
   ]
  },
  {
   "cell_type": "markdown",
   "id": "238b3425",
   "metadata": {},
   "source": [
    "✅ Step 3: Select Important Features for Recommendation"
   ]
  },
  {
   "cell_type": "code",
   "execution_count": 3,
   "id": "94d687d1",
   "metadata": {},
   "outputs": [],
   "source": [
    "features = ['danceability', 'energy', 'valence', 'tempo', 'loudness',\n",
    "            'speechiness', 'acousticness', 'instrumentalness', 'liveness']\n",
    "\n",
    "df_selected = df[features].copy()\n"
   ]
  },
  {
   "cell_type": "markdown",
   "id": "739be872",
   "metadata": {},
   "source": [
    "✅ Step 4: Handle Missing Values (if any)"
   ]
  },
  {
   "cell_type": "code",
   "execution_count": 4,
   "id": "16285973",
   "metadata": {},
   "outputs": [],
   "source": [
    "df_selected.dropna(inplace=True)"
   ]
  },
  {
   "cell_type": "markdown",
   "id": "22c71a13",
   "metadata": {},
   "source": [
    "✅ Step 5: Normalize the Features"
   ]
  },
  {
   "cell_type": "code",
   "execution_count": 5,
   "id": "cefc459e",
   "metadata": {},
   "outputs": [],
   "source": [
    "scaler = StandardScaler()\n",
    "df_scaled = scaler.fit_transform(df_selected)"
   ]
  },
  {
   "cell_type": "markdown",
   "id": "7edbd43e",
   "metadata": {},
   "source": [
    "✅ Step 6: Compute Similarity Matrix"
   ]
  },
  {
   "cell_type": "code",
   "execution_count": 6,
   "id": "513639d6",
   "metadata": {},
   "outputs": [],
   "source": [
    "# Sample only 5000 rows from scaled data\n",
    "df_sampled = df_scaled[:5000]  # Assuming df_scaled is based on df_selected\n",
    "\n",
    "from sklearn.neighbors import NearestNeighbors\n",
    "\n",
    "model = NearestNeighbors(metric='cosine', algorithm='brute')\n",
    "model.fit(df_sampled)\n",
    "\n",
    "# Get distances and indices for top 6 nearest neighbors\n",
    "distances, indices = model.kneighbors(df_sampled, n_neighbors=6)"
   ]
  },
  {
   "cell_type": "markdown",
   "id": "e71f7f28",
   "metadata": {},
   "source": [
    "Option 1: Reduce Dataset Size (Recommended for Testing)"
   ]
  },
  {
   "cell_type": "code",
   "execution_count": 7,
   "id": "0f00b931",
   "metadata": {},
   "outputs": [],
   "source": [
    "# Step 6 - Sample and Compute Similarity\n",
    "from sklearn.preprocessing import StandardScaler\n",
    "from sklearn.metrics.pairwise import cosine_similarity\n",
    "\n",
    "features = ['danceability', 'energy', 'valence', 'tempo', 'popularity']  # adjust as per your dataset\n",
    "\n",
    "df_sample = df.sample(n=20000, random_state=88)  # reduced sample\n",
    "df_selected = df_sample[features].copy()\n",
    "\n",
    "scaler = StandardScaler()\n",
    "df_scaled = scaler.fit_transform(df_selected)\n",
    "\n",
    "similarity_matrix = cosine_similarity(df_scaled)"
   ]
  },
  {
   "cell_type": "markdown",
   "id": "1ab1f7e7",
   "metadata": {},
   "source": [
    "✅ Step 7: Build Recommendation Function"
   ]
  },
  {
   "cell_type": "code",
   "execution_count": 8,
   "id": "5272da60",
   "metadata": {},
   "outputs": [],
   "source": [
    "import numpy as np\n",
    "\n",
    "# Reset index to align row numbers with song index\n",
    "df_sample = df_sample.reset_index(drop=True)\n",
    "\n",
    "def recommend(song_name):\n",
    "    # Find index of the song\n",
    "    index = df_sample[df_sample['track_name'].str.lower() == song_name.lower()].index\n",
    "    \n",
    "    if len(index) == 0:\n",
    "        return f\"❌ Song '{song_name}' not found in dataset.\"\n",
    "    \n",
    "    index = index[0]\n",
    "\n",
    "    # Get pairwise similarity scores\n",
    "    similarity_scores = list(enumerate(similarity_matrix[index]))\n",
    "\n",
    "    # Sort songs by similarity score (excluding the first one - itself)\n",
    "    sorted_songs = sorted(similarity_scores, key=lambda x: x[1], reverse=True)[1:6]\n",
    "\n",
    "    # Fetch top 5 similar songs\n",
    "    recommendations = []\n",
    "    for i in sorted_songs:\n",
    "        recommended_song = df_sample.iloc[i[0]]['track_name']\n",
    "        recommendations.append(recommended_song)\n",
    "    \n",
    "    return recommendations\n"
   ]
  },
  {
   "cell_type": "markdown",
   "id": "7df90461",
   "metadata": {},
   "source": [
    "✅ Step 8: Test the Recommender"
   ]
  },
  {
   "cell_type": "code",
   "execution_count": 9,
   "id": "e770f01c",
   "metadata": {},
   "outputs": [
    {
     "data": {
      "text/plain": [
       "['Weekend!',\n",
       " 'Us',\n",
       " 'RADIO SONG (feat. Jeremy McKinnon)',\n",
       " 'Brighter',\n",
       " 'Leverage']"
      ]
     },
     "execution_count": 9,
     "metadata": {},
     "output_type": "execute_result"
    }
   ],
   "source": [
    "recommend(\"perfect\")"
   ]
  },
  {
   "cell_type": "code",
   "execution_count": 10,
   "id": "a8755a74",
   "metadata": {},
   "outputs": [
    {
     "data": {
      "text/plain": [
       "['Sandakozhi',\n",
       " 'Development',\n",
       " 'Sleep 4',\n",
       " 'Way Beyond - Original',\n",
       " '(Is This the Way To) Amarillo',\n",
       " 'carpool',\n",
       " 'This Is What It Feels Like - David Guetta Remix',\n",
       " 'E Samba 2018 - Original Mix',\n",
       " 'Completou',\n",
       " 'Shine On']"
      ]
     },
     "execution_count": 10,
     "metadata": {},
     "output_type": "execute_result"
    }
   ],
   "source": [
    "df_sample['track_name'].sample(10).tolist()"
   ]
  },
  {
   "cell_type": "markdown",
   "id": "06b2787a",
   "metadata": {},
   "source": [
    "✅ Step 9: Add Artist or Genre Filter (for more accurate recommendations)"
   ]
  },
  {
   "cell_type": "markdown",
   "id": "b849f026",
   "metadata": {},
   "source": [
    "Modify the Recommend Function with Filters"
   ]
  },
  {
   "cell_type": "code",
   "execution_count": 11,
   "id": "e8ad3c9f",
   "metadata": {},
   "outputs": [],
   "source": [
    "def recommend_with_filters(song_name, filter_by='genre'):\n",
    "    # Find index of the song\n",
    "    index = df_sample[df_sample['track_name'].str.lower() == song_name.lower()].index\n",
    "\n",
    "    if len(index) == 0:\n",
    "        return f\"❌ Song '{song_name}' not found in dataset.\"\n",
    "    \n",
    "    index = index[0]\n",
    "\n",
    "    # Base song details\n",
    "    base_song = df_sample.iloc[index]\n",
    "    base_genre = base_song['genre']\n",
    "    \n",
    "    # Get similarity scores\n",
    "    similarity_scores = list(enumerate(similarity_matrix[index]))\n",
    "\n",
    "    # Sort songs by similarity score\n",
    "    sorted_songs = sorted(similarity_scores, key=lambda x: x[1], reverse=True)\n",
    "\n",
    "    # Filter songs by genre or mood\n",
    "    recommendations = []\n",
    "    for i in sorted_songs:\n",
    "        candidate_song = df_sample.iloc[i[0]]\n",
    "\n",
    "        # Skip the same song\n",
    "        if candidate_song['track_name'].lower() == song_name.lower():\n",
    "            continue\n",
    "\n",
    "        # Filter by genre\n",
    "        if filter_by == 'genre':\n",
    "            if candidate_song['genre'] == base_genre:\n",
    "                recommendations.append(candidate_song['track_name'])\n",
    "        \n",
    "        # Filter by mood (valence, energy, danceability similarity)\n",
    "        elif filter_by == 'mood':\n",
    "            mood_features = ['valence', 'energy', 'danceability']\n",
    "            base_mood = base_song[mood_features].values\n",
    "            candidate_mood = candidate_song[mood_features].values\n",
    "\n",
    "            diff = np.linalg.norm(base_mood - candidate_mood)\n",
    "            if diff < 0.3:  # you can tune this threshold\n",
    "                recommendations.append(candidate_song['track_name'])\n",
    "\n",
    "        # Stop when 5 recommendations are collected\n",
    "        if len(recommendations) == 5:\n",
    "            break\n",
    "    \n",
    "    return recommendations if recommendations else \"No similar songs found with the selected filter.\"\n"
   ]
  },
  {
   "cell_type": "markdown",
   "id": "656f0640",
   "metadata": {},
   "source": [
    "✅ Step 2: Test Genre and Mood Filters"
   ]
  },
  {
   "cell_type": "code",
   "execution_count": 12,
   "id": "ab092379",
   "metadata": {},
   "outputs": [
    {
     "data": {
      "text/plain": [
       "['Weekend!',\n",
       " 'Us',\n",
       " 'RADIO SONG (feat. Jeremy McKinnon)',\n",
       " 'Brighter',\n",
       " 'Leverage']"
      ]
     },
     "execution_count": 12,
     "metadata": {},
     "output_type": "execute_result"
    }
   ],
   "source": [
    "recommend_with_filters(\"perfect\", filter_by='genre')\n",
    "\n",
    "recommend_with_filters(\"perfect\", filter_by='mood')"
   ]
  },
  {
   "cell_type": "markdown",
   "id": "4910dce5",
   "metadata": {},
   "source": [
    "✅ Bonus Step: Add Artist Filter"
   ]
  },
  {
   "cell_type": "code",
   "execution_count": 13,
   "id": "80838306",
   "metadata": {},
   "outputs": [
    {
     "name": "stdout",
     "output_type": "stream",
     "text": [
      "🎵 Recommended Songs:\n",
      "→ Stargazer\n",
      "→ Call Your Bluff\n",
      "→ Leverage\n",
      "→ (Concerto for) Me and Myself - Remastered\n",
      "→ My Wish - Remastered Version\n"
     ]
    }
   ],
   "source": [
    "from sklearn.preprocessing import StandardScaler\n",
    "from sklearn.metrics.pairwise import cosine_similarity\n",
    "import numpy as np\n",
    "\n",
    "# Step 1: Scale features\n",
    "features = ['valence', 'energy', 'danceability', 'tempo', 'acousticness', 'instrumentalness', 'liveness']\n",
    "scaler = StandardScaler()\n",
    "df_scaled = scaler.fit_transform(df_sample[features])\n",
    "\n",
    "# Step 2: Define recommendation function\n",
    "def recommend_songs(song_name, filter_by='mood'):\n",
    "    recommendations = []\n",
    "    \n",
    "    try:\n",
    "        song_index = df_sample[df_sample['track_name'].str.lower() == song_name.lower()].index[0]\n",
    "    except IndexError:\n",
    "        print(\"❌ Song not found in the dataset.\")\n",
    "        return []\n",
    "\n",
    "    base_song = df_sample.iloc[song_index]\n",
    "    similarity_scores = cosine_similarity([df_scaled[song_index]], df_scaled)[0]\n",
    "    sorted_songs = sorted(list(enumerate(similarity_scores)), key=lambda x: x[1], reverse=True)\n",
    "\n",
    "    base_genre = base_song['genre']\n",
    "    mood_features = ['valence', 'energy', 'danceability']\n",
    "    base_mood = base_song[mood_features].values\n",
    "\n",
    "    for i in sorted_songs:\n",
    "        candidate_song = df_sample.iloc[i[0]]\n",
    "\n",
    "        # Skip same song\n",
    "        if candidate_song['track_name'].lower() == song_name.lower():\n",
    "            continue\n",
    "        \n",
    "        # (Optional) Skip same artist\n",
    "        if candidate_song['artist_name'] == base_song['artist_name']:\n",
    "            continue  # or apply priority logic\n",
    "\n",
    "        if filter_by == 'genre':\n",
    "            if candidate_song['genre'] == base_genre:\n",
    "                recommendations.append(candidate_song['track_name'])\n",
    "\n",
    "        elif filter_by == 'mood':\n",
    "            candidate_mood = candidate_song[mood_features].values\n",
    "            diff = np.linalg.norm(base_mood - candidate_mood)\n",
    "            if diff < 0.3:\n",
    "                recommendations.append(candidate_song['track_name'])\n",
    "\n",
    "        if len(recommendations) == 5:\n",
    "            break\n",
    "\n",
    "    return recommendations\n",
    "\n",
    "# Step 3: Use the function\n",
    "recommended = recommend_songs('perfect', filter_by='mood')\n",
    "print(\"🎵 Recommended Songs:\")\n",
    "for song in recommended:\n",
    "    print(\"→\", song)\n"
   ]
  },
  {
   "cell_type": "markdown",
   "id": "5e7c6dd2",
   "metadata": {},
   "source": [
    "✅ Check for Hindi songs by artist or title"
   ]
  },
  {
   "cell_type": "code",
   "execution_count": 14,
   "id": "11888764",
   "metadata": {},
   "outputs": [
    {
     "name": "stdout",
     "output_type": "stream",
     "text": [
      "                                       track_name            artist_name\n",
      "38                               Bhakthiyudaiyaar  Sirkazhi Govindarajan\n",
      "82                     It's Only Love - Radio Mix                Optical\n",
      "114                              Universe of Love                DJ Shah\n",
      "157                Everybody's Talking 'bout Love      Silver Convention\n",
      "173  Love The One You're With (with James Taylor)  Crosby, Stills & Nash\n",
      "187       Stumblin' In - The Distance & Igi Remix            Ahmet Kilic\n",
      "206                       Shaker Love Song (Leah)            Josh Ritter\n",
      "235                                    First Love                   Clon\n",
      "250                                    Tough Love          The Rival Mob\n",
      "263                            Tum Jo Mil Gaye Ho             Mika Singh\n"
     ]
    }
   ],
   "source": [
    "# Lowercase all track names for easier searching\n",
    "df_sample['track_name_lower'] = df_sample['track_name'].str.lower()\n",
    "\n",
    "# Filter with common Hindi keywords\n",
    "hindi_keywords = ['love', 'tera', 'dil', 'tum', 'yaar', 'mein', 'aankh', 'pyar', 'sanam', 'zindagi']\n",
    "\n",
    "# Check for Hindi-sounding track names\n",
    "hindi_songs = df_sample[df_sample['track_name_lower'].apply(lambda x: any(word in x for word in hindi_keywords))]\n",
    "\n",
    "# Display the results\n",
    "print(hindi_songs[['track_name', 'artist_name']].head(10))\n"
   ]
  },
  {
   "cell_type": "code",
   "execution_count": 15,
   "id": "72677079",
   "metadata": {},
   "outputs": [
    {
     "name": "stdout",
     "output_type": "stream",
     "text": [
      "                                         track_name     artist_name\n",
      "1613                          Milne Hai Mujhse Aayi    Arijit Singh\n",
      "2187                    Kanninima Neele - Version 1  Shreya Ghoshal\n",
      "2430   Tujhe Kitna Chahne Lage (From \"Kabir Singh\")    Arijit Singh\n",
      "3384                                  Dekhte Dekhte      Atif Aslam\n",
      "3418                  Tera Hone Laga Hoon - Jhankar      Atif Aslam\n",
      "3752                        Sudhu Bhalobasha (Solo)  Shreya Ghoshal\n",
      "7431                                     Chhod Diya    Arijit Singh\n",
      "7868                               Aai Jo Teri Yaad  Shreya Ghoshal\n",
      "10100                                     Piya Bina    Arijit Singh\n",
      "10259                              Dil Diyan Gallan      Atif Aslam\n"
     ]
    }
   ],
   "source": [
    "hindi_artists = ['Arijit Singh', 'Neha Kakkar', 'Badshah', 'Shreya Ghoshal', 'Atif Aslam']\n",
    "hindi_songs_by_artist = df_sample[df_sample['artist_name'].isin(hindi_artists)]\n",
    "print(hindi_songs_by_artist[['track_name', 'artist_name']].head(10))"
   ]
  },
  {
   "cell_type": "markdown",
   "id": "3c4eb3b8",
   "metadata": {},
   "source": [
    " To see all songs of an artist:"
   ]
  },
  {
   "cell_type": "code",
   "execution_count": 16,
   "id": "c82e4f52",
   "metadata": {},
   "outputs": [
    {
     "name": "stdout",
     "output_type": "stream",
     "text": [
      "🎤 Songs by Neha Kakkar:\n",
      "[]\n"
     ]
    }
   ],
   "source": [
    "# Example: Arijit Singh ke songs dekhne ke liye\n",
    "artist_name = 'Neha Kakkar'\n",
    "\n",
    "# Filter karna dataset me\n",
    "artist_songs = df_sample[df_sample['artist_name'].str.lower() == artist_name.lower()]\n",
    "\n",
    "# Display only track names\n",
    "print(f\"🎤 Songs by {artist_name}:\")\n",
    "print(artist_songs['track_name'].unique())\n"
   ]
  },
  {
   "cell_type": "markdown",
   "id": "6ebbb08e",
   "metadata": {},
   "source": [
    "To Find Artist by Song Name"
   ]
  },
  {
   "cell_type": "code",
   "execution_count": 17,
   "id": "0cdee6c5",
   "metadata": {},
   "outputs": [],
   "source": [
    "import pandas as pd\n",
    "from sklearn.preprocessing import StandardScaler\n",
    "from sklearn.neighbors import NearestNeighbors\n",
    "\n",
    "# Load the dataset\n",
    "df = pd.read_csv(\"spotify_data.csv\")\n",
    "\n",
    "# Step 1: Sample small dataset\n",
    "df_sample = df.sample(n=3000, random_state=42)\n",
    "\n",
    "# Step 2: Select features for similarity\n",
    "features = ['danceability', 'energy', 'valence', 'tempo', 'popularity']\n",
    "df_selected = df_sample[features].copy()\n",
    "\n",
    "# Step 3: Scale features\n",
    "scaler = StandardScaler()\n",
    "df_scaled = scaler.fit_transform(df_selected)\n",
    "\n",
    "# Step 4: Fit Nearest Neighbors model\n",
    "model = NearestNeighbors(metric='cosine', algorithm='brute')\n",
    "model.fit(df_scaled)\n",
    "\n",
    "# Step 5: Recommendation function (and artist lookup)\n",
    "def recommend(song_name):\n",
    "    df_sample_reset = df_sample.reset_index(drop=True)\n",
    "    \n",
    "    # Find the index of the input song\n",
    "    index = df_sample_reset[df_sample_reset['track_name'].str.lower() == song_name.lower()].index\n",
    "\n",
    "    if len(index) == 0:\n",
    "        return f\"❌ Song '{song_name}' not found in dataset.\"\n",
    "    \n",
    "    index = index[0]\n",
    "    \n",
    "    # Find 5 nearest neighbors\n",
    "    distances, indices = model.kneighbors([df_scaled[index]], n_neighbors=6)  # 1 is the song itself\n",
    "    recommendations = []\n",
    "\n",
    "    for i in indices[0][1:]:  # Skip first (same song)\n",
    "        track = df_sample_reset.iloc[i]['track_name']\n",
    "        artist = df_sample_reset.iloc[i]['artist_name']\n",
    "        recommendations.append(f\"{track} by {artist}\")\n",
    "\n",
    "    return recommendations\n",
    "\n",
    "# Step 6: Artist lookup (normal Jupyter output)\n",
    "def get_artist(song_name):\n",
    "    match = df[df['track_name'].str.lower() == song_name.lower()]\n",
    "    if match.empty:\n",
    "        return f\"❌ Song '{song_name}' not found.\"\n",
    "    return match[['track_name', 'artist_name']].drop_duplicates()\n"
   ]
  },
  {
   "cell_type": "code",
   "execution_count": 35,
   "id": "616af89d",
   "metadata": {},
   "outputs": [
    {
     "data": {
      "text/plain": [
       "['Te Deum H146 - Prélude en Rondeau by Marc-Antoine Charpentier',\n",
       " 'Narkopop 7 by GAS',\n",
       " 'The Lakes by James Vincent McMorrow',\n",
       " 'In Grazia Del Tuo Nome, Con Amore by Alessandra Celletti',\n",
       " 'Would You Love Me Anyway by Katrina Elam']"
      ]
     },
     "execution_count": 35,
     "metadata": {},
     "output_type": "execute_result"
    }
   ],
   "source": [
    "recommend(\"perfect\")"
   ]
  },
  {
   "cell_type": "code",
   "execution_count": 36,
   "id": "96a97548",
   "metadata": {},
   "outputs": [
    {
     "data": {
      "text/html": [
       "<div>\n",
       "<style scoped>\n",
       "    .dataframe tbody tr th:only-of-type {\n",
       "        vertical-align: middle;\n",
       "    }\n",
       "\n",
       "    .dataframe tbody tr th {\n",
       "        vertical-align: top;\n",
       "    }\n",
       "\n",
       "    .dataframe thead th {\n",
       "        text-align: right;\n",
       "    }\n",
       "</style>\n",
       "<table border=\"1\" class=\"dataframe\">\n",
       "  <thead>\n",
       "    <tr style=\"text-align: right;\">\n",
       "      <th></th>\n",
       "      <th>track_name</th>\n",
       "      <th>artist_name</th>\n",
       "    </tr>\n",
       "  </thead>\n",
       "  <tbody>\n",
       "    <tr>\n",
       "      <th>87351</th>\n",
       "      <td>Pee Loon</td>\n",
       "      <td>Pritam</td>\n",
       "    </tr>\n",
       "    <tr>\n",
       "      <th>1101647</th>\n",
       "      <td>Pee Loon</td>\n",
       "      <td>Mohit Chauhan</td>\n",
       "    </tr>\n",
       "    <tr>\n",
       "      <th>1101899</th>\n",
       "      <td>Pee Loon</td>\n",
       "      <td>Tulsi Kumar</td>\n",
       "    </tr>\n",
       "    <tr>\n",
       "      <th>1141234</th>\n",
       "      <td>Pee Loon</td>\n",
       "      <td>Pinkoo Joseph</td>\n",
       "    </tr>\n",
       "  </tbody>\n",
       "</table>\n",
       "</div>"
      ],
      "text/plain": [
       "        track_name    artist_name\n",
       "87351     Pee Loon         Pritam\n",
       "1101647   Pee Loon  Mohit Chauhan\n",
       "1101899   Pee Loon    Tulsi Kumar\n",
       "1141234   Pee Loon  Pinkoo Joseph"
      ]
     },
     "execution_count": 36,
     "metadata": {},
     "output_type": "execute_result"
    }
   ],
   "source": [
    "get_artist(\"pee loon\")"
   ]
  }
 ],
 "metadata": {
  "kernelspec": {
   "display_name": "Python 3",
   "language": "python",
   "name": "python3"
  },
  "language_info": {
   "codemirror_mode": {
    "name": "ipython",
    "version": 3
   },
   "file_extension": ".py",
   "mimetype": "text/x-python",
   "name": "python",
   "nbconvert_exporter": "python",
   "pygments_lexer": "ipython3",
   "version": "3.13.1"
  }
 },
 "nbformat": 4,
 "nbformat_minor": 5
}
